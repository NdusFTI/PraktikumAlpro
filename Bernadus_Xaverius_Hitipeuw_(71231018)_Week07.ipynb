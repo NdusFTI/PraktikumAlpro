{
 "cells": [
  {
   "cell_type": "markdown",
   "metadata": {},
   "source": [
    "Latihan 7.1"
   ]
  },
  {
   "cell_type": "code",
   "execution_count": 1,
   "metadata": {},
   "outputs": [
    {
     "name": "stdout",
     "output_type": "stream",
     "text": [
      "Masukkan kata 1: mata\n",
      "Masukkan kata 2: maat\n",
      "mata adalah anagram dari maat\n"
     ]
    }
   ],
   "source": [
    "kata1 = str(input(\"Masukkan kata 1: \"))\n",
    "print(f\"Masukkan kata 1: {kata1}\")\n",
    "kata2 = str(input(\"Masukkan Kata 2: \"))\n",
    "print(f\"Masukkan kata 2: {kata2}\")\n",
    "\n",
    "for i in kata1:\n",
    "    for j in kata2:\n",
    "        if i == j:\n",
    "            break\n",
    "    else:\n",
    "        print(f\"{kata1} adalah bukan anagram dari {kata2}\")\n",
    "        break\n",
    "else:\n",
    "    print(f\"{kata1} adalah anagram dari {kata2}\")"
   ]
  },
  {
   "cell_type": "markdown",
   "metadata": {},
   "source": [
    "Latihan 7.2"
   ]
  },
  {
   "cell_type": "code",
   "execution_count": 50,
   "metadata": {},
   "outputs": [
    {
     "name": "stdout",
     "output_type": "stream",
     "text": [
      "Masukkan kalimat: Saya mau makan. Makan itu wajib. Mau siang atau malam saya wajib makan\n",
      "Masukkan kata yang ingin dicari: makan\n",
      "makan ada 3 buah\n"
     ]
    }
   ],
   "source": [
    "kata = str(input(\"Masukkan kalimat: \"))\n",
    "print(f\"Masukkan kalimat: {kata}\")\n",
    "kata_dicari = str(input(\"Masukkan kata yang ingin dicari: \"))\n",
    "print(f\"Masukkan kata yang ingin dicari: {kata_dicari}\")\n",
    "\n",
    "jumlah = 0\n",
    "\n",
    "katas = kata.lower().split()\n",
    "\n",
    "for i in katas:\n",
    "    if kata_dicari.lower() in i:\n",
    "        jumlah += 1\n",
    "\n",
    "print(f\"{kata_dicari} ada {jumlah} buah\")"
   ]
  },
  {
   "cell_type": "markdown",
   "metadata": {},
   "source": [
    "Latihan 7.3"
   ]
  },
  {
   "cell_type": "code",
   "execution_count": 2,
   "metadata": {},
   "outputs": [
    {
     "name": "stdout",
     "output_type": "stream",
     "text": [
      "Masukkan kalimat: bakmi       saya ada      2\n",
      "bakmi saya ada 2\n"
     ]
    }
   ],
   "source": [
    "kata = str(input(\"Masukkan kalimat: \"))\n",
    "print(f\"Masukkan kalimat: {kata}\")\n",
    "\n",
    "katas = kata.split(\" \")\n",
    "\n",
    "kata_baru = \"\"\n",
    "\n",
    "for i in katas:\n",
    "    if i != \"\":\n",
    "        kata_baru += i + \" \"\n",
    "\n",
    "print(\"\".join(kata_baru[:-1]))"
   ]
  },
  {
   "cell_type": "markdown",
   "metadata": {},
   "source": [
    "Latihan 7.4"
   ]
  },
  {
   "cell_type": "code",
   "execution_count": 51,
   "metadata": {},
   "outputs": [
    {
     "name": "stdout",
     "output_type": "stream",
     "text": [
      "Masukkan kalimat: red snakes and a black frog in the pool\n",
      "Terpendek: a, Terpanjang: snakes\n"
     ]
    }
   ],
   "source": [
    "kata = str(input(\"Masukkan kalimat: \"))\n",
    "print(f\"Masukkan kalimat: {kata}\")\n",
    "\n",
    "katas = kata.split(\" \")\n",
    "\n",
    "kata_terpanjang = \"\"\n",
    "kata_terpendek = katas[0]\n",
    "\n",
    "for i in katas:\n",
    "    if len(i) > len(kata_terpanjang):\n",
    "        kata_terpanjang = i\n",
    "    \n",
    "    if len(i) < len(kata_terpendek):\n",
    "        kata_terpendek = i\n",
    "\n",
    "print(f\"Terpendek: {kata_terpendek}, Terpanjang: {kata_terpanjang}\")"
   ]
  }
 ],
 "metadata": {
  "kernelspec": {
   "display_name": "Python 3",
   "language": "python",
   "name": "python3"
  },
  "language_info": {
   "codemirror_mode": {
    "name": "ipython",
    "version": 3
   },
   "file_extension": ".py",
   "mimetype": "text/x-python",
   "name": "python",
   "nbconvert_exporter": "python",
   "pygments_lexer": "ipython3",
   "version": "3.12.2"
  }
 },
 "nbformat": 4,
 "nbformat_minor": 2
}
