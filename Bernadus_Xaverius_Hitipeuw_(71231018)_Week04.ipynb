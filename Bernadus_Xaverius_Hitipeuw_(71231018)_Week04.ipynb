{
 "cells": [
  {
   "attachments": {},
   "cell_type": "markdown",
   "metadata": {},
   "source": [
    "Latihan 4.1"
   ]
  },
  {
   "cell_type": "code",
   "execution_count": 12,
   "metadata": {},
   "outputs": [
    {
     "data": {
      "text/plain": [
       "False"
      ]
     },
     "execution_count": 12,
     "metadata": {},
     "output_type": "execute_result"
    }
   ],
   "source": [
    "def cek_angka(a, b, c):\n",
    "  cekA = b + c\n",
    "  cekB = c + a\n",
    "  cekC = a + b\n",
    "\n",
    "  if a != b or a != c and b != c:\n",
    "    if a == cekA or b == cekB or c == cekC:\n",
    "      return True\n",
    "  else:\n",
    "    return False\n",
    "\n",
    "angka1 = int(input(\"Masukkan Angka Pertama: \"))\n",
    "angka2 = int(input(\"Masukkan Angka Kedua: \"))\n",
    "angka3 = int(input(\"Masukkan Angka Ketiga: \"))\n",
    "print(cek_angka(angka1, angka2, angka3))"
   ]
  },
  {
   "attachments": {},
   "cell_type": "markdown",
   "metadata": {},
   "source": [
    "Latihan 4.2"
   ]
  },
  {
   "cell_type": "code",
   "execution_count": 18,
   "metadata": {},
   "outputs": [
    {
     "name": "stdout",
     "output_type": "stream",
     "text": [
      "Masukkan Angka Pertama: 10\n",
      "Masukkan Angka Kedua: 10\n",
      "Masukkan Angka Ketiga: 10\n",
      "True\n"
     ]
    }
   ],
   "source": [
    "def cek_digit_belakang(a, b, c):\n",
    "  cekA = a % 10\n",
    "  cekB = b % 10\n",
    "  cekC = c % 10\n",
    "  \n",
    "  if cekA == cekB != cekC or cekA != cekB == cekC or cekA == cekB != cekC or cekA == cekB == cekC:\n",
    "    return True\n",
    "  else:\n",
    "    return False\n",
    "\n",
    "angka1 = int(input(\"Masukkan Angka Pertama: \"))\n",
    "angka2 = int(input(\"Masukkan Angka Kedua: \"))\n",
    "angka3 = int(input(\"Masukkan Angka Ketiga: \"))\n",
    "\n",
    "print(f\"Masukkan Angka Pertama: {angka1}\")\n",
    "print(f\"Masukkan Angka Kedua: {angka2}\")\n",
    "print(f\"Masukkan Angka Ketiga: {angka3}\")\n",
    "print(cek_digit_belakang(angka1, angka2, angka3))"
   ]
  },
  {
   "attachments": {},
   "cell_type": "markdown",
   "metadata": {},
   "source": [
    "Latihan 4.3"
   ]
  },
  {
   "cell_type": "code",
   "execution_count": 18,
   "metadata": {},
   "outputs": [
    {
     "name": "stdout",
     "output_type": "stream",
     "text": [
      "===== Konversi Suhu =====\n",
      "1.\tFahrenheit\n",
      "2.\tReamur\n",
      "=========================\n",
      "Masukkan pilihan anda: 1\n",
      "== Konversi Fahrenheit ==\n",
      "=========================\n",
      "Masukkan Suhu (C): 10.0\n",
      "Hasil Konversi ke (F): 50.0\n"
     ]
    }
   ],
   "source": [
    "celcius_to_fahrenheit = lambda x = 0: (9/5) * x + 32\n",
    "celcius_to_reamur = lambda x = 0: 0.8 * x\n",
    "\n",
    "print(\"===== Konversi Suhu =====\")\n",
    "print(\"1.\\tFahrenheit\")\n",
    "print(\"2.\\tReamur\")\n",
    "print(\"=========================\")\n",
    "pilihan = int(input(\"Masukkan pilihan anda: \"))\n",
    "print(f\"Masukkan pilihan anda: {pilihan}\")\n",
    "\n",
    "if pilihan == 1:\n",
    "  print(\"== Konversi Fahrenheit ==\")\n",
    "  print(\"=========================\")\n",
    "  suhu = float(input(\"Masukkan Suhu (C): \"))\n",
    "  print(f\"Masukkan Suhu (C): {suhu}\")\n",
    "  print(f\"Hasil Konversi ke (F): {round(celcius_to_fahrenheit(suhu), 2)}\")\n",
    "elif pilihan == 2:\n",
    "  print(\"==== Konversi Reamur ====\")\n",
    "  print(\"=========================\")\n",
    "  suhu = float(input(\"Masukkan Suhu (C): \"))\n",
    "  print(f\"Masukkan Suhu (C): {suhu}\")\n",
    "  print(f\"Hasil Konversi ke (R): {round(celcius_to_reamur(suhu), 2)}\"\n",
    "else:\n",
    "  print(\"Tidak ada pilihan tersebut :(\")\n"
   ]
  }
 ],
 "metadata": {
  "kernelspec": {
   "display_name": "Python 3",
   "language": "python",
   "name": "python3"
  },
  "language_info": {
   "codemirror_mode": {
    "name": "ipython",
    "version": 3
   },
   "file_extension": ".py",
   "mimetype": "text/x-python",
   "name": "python",
   "nbconvert_exporter": "python",
   "pygments_lexer": "ipython3",
   "version": "3.12.2"
  },
  "orig_nbformat": 4
 },
 "nbformat": 4,
 "nbformat_minor": 2
}
