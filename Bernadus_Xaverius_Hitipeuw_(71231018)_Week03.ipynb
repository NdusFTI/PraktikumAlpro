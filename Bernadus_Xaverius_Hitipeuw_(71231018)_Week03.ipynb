{
 "cells": [
  {
   "attachments": {},
   "cell_type": "markdown",
   "metadata": {},
   "source": [
    "Latihan 3.1"
   ]
  },
  {
   "cell_type": "code",
   "execution_count": 2,
   "metadata": {},
   "outputs": [
    {
     "name": "stdout",
     "output_type": "stream",
     "text": [
      "Kesalahan memasukkan input (Integer)\n"
     ]
    }
   ],
   "source": [
    "try:\n",
    "  suhu = int(input(\"Masukkan suhu tubuh: \"))\n",
    "  print(f\"Masukkan suhu tubuh: {suhu}\")\n",
    "\n",
    "  if suhu >= 38:\n",
    "    print(\"Kamu sedang Demam\")\n",
    "  else:\n",
    "    print(\"Kamu tidak Demam\")\n",
    "\n",
    "except:\n",
    "  print(\"Kesalahan memasukkan input (Integer)\")"
   ]
  },
  {
   "cell_type": "code",
   "execution_count": 3,
   "metadata": {},
   "outputs": [
    {
     "name": "stdout",
     "output_type": "stream",
     "text": [
      "Kesalahan memasukkan input (Integer)\n"
     ]
    }
   ],
   "source": [
    "try:\n",
    "  bilangan = int(input(\"Masukkan suatu bilangan: \"))\n",
    "  print(f\"Masukkan suatu bilangan: {bilangan}\")\n",
    "\n",
    "  if bilangan > 0:\n",
    "    print(\"Bilangan Positif\")\n",
    "  elif bilangan < 0:\n",
    "    print(\"Bilangan Negatif\")\n",
    "  elif bilangan == 0:\n",
    "    print(\"Bilangan Nol\")\n",
    "\n",
    "except:\n",
    "  print(\"Kesalahan memasukkan input (Integer)\")"
   ]
  },
  {
   "cell_type": "code",
   "execution_count": 4,
   "metadata": {},
   "outputs": [
    {
     "name": "stdout",
     "output_type": "stream",
     "text": [
      "Kesalahan memasukkan input (Integer)\n"
     ]
    }
   ],
   "source": [
    "try:\n",
    "  a = int(input(\"Masukkan bilangan pertama: \"))\n",
    "  b = int(input(\"Masukkan bilangan kedua: \"))\n",
    "  c = int(input(\"Masukkan bilangan ketiga: \"))\n",
    "\n",
    "  print(f\"Masukkan bilangan pertama: {a}\")\n",
    "  print(f\"Masukkan bilangan kedua: {b}\")\n",
    "  print(f\"Masukkan bilangan ketiga: {c}\")\n",
    "\n",
    "  if a > b and a > c:\n",
    "    print(f\"Terbesar: {a}\")\n",
    "  elif b > a and b > c:\n",
    "    print(f\"Terbesar: {b}\")\n",
    "  elif c > a and c > b:\n",
    "    print(f\"Terbesar: {c}\")\n",
    "\n",
    "except:\n",
    "  print(\"Kesalahan memasukkan input (Integer)\")\n"
   ]
  },
  {
   "attachments": {},
   "cell_type": "markdown",
   "metadata": {},
   "source": [
    "Latihan 3.2"
   ]
  },
  {
   "cell_type": "code",
   "execution_count": 9,
   "metadata": {},
   "outputs": [
    {
     "name": "stdout",
     "output_type": "stream",
     "text": [
      "Masukkan bilangan anda: 5\n",
      "Bilangan Positif\n"
     ]
    }
   ],
   "source": [
    "try:\n",
    "  bilangan = int(input(\"Masukkan bilangan anda: \"))\n",
    "  print(f\"Masukkan bilangan anda: {bilangan}\")\n",
    "\n",
    "  info_bilangan = \"Bilangan Positif\" if bilangan > 0 else (\"Bilangan Negatif\" if bilangan < 0 else \"Bilangan Nol\")\n",
    "\n",
    "  print(info_bilangan)\n",
    "\n",
    "except:\n",
    "  print(\"Kesalahan memasukkan input (Integer)\")"
   ]
  },
  {
   "attachments": {},
   "cell_type": "markdown",
   "metadata": {},
   "source": [
    "Latihan 3.3"
   ]
  },
  {
   "cell_type": "code",
   "execution_count": 18,
   "metadata": {},
   "outputs": [
    {
     "name": "stdout",
     "output_type": "stream",
     "text": [
      "Masukkan Bulan (1-12): 12\n",
      "Jumlah Hari 31\n"
     ]
    }
   ],
   "source": [
    "try:\n",
    "  bulan = int(input(\"Masukkan Bulan (1-12):\"))\n",
    "\n",
    "  print(f\"Masukkan Bulan (1-12): {bulan}\")\n",
    "\n",
    "  data_bulan = [\n",
    "    {\"Bulan\": 1, \"Hari\": 31},\n",
    "    {\"Bulan\": 2, \"Hari\": 28},\n",
    "    {\"Bulan\": 3, \"Hari\": 31},\n",
    "    {\"Bulan\": 4, \"Hari\": 30},\n",
    "    {\"Bulan\": 5, \"Hari\": 31},\n",
    "    {\"Bulan\": 6, \"Hari\": 30},\n",
    "    {\"Bulan\": 7, \"Hari\": 31},\n",
    "    {\"Bulan\": 8, \"Hari\": 31},\n",
    "    {\"Bulan\": 9, \"Hari\": 30},\n",
    "    {\"Bulan\": 10, \"Hari\": 31},\n",
    "    {\"Bulan\": 11, \"Hari\": 30},\n",
    "    {\"Bulan\": 12, \"Hari\": 31}\n",
    "  ]\n",
    "\n",
    "  for bulan_data in data_bulan:\n",
    "    if bulan_data[\"Bulan\"] == bulan:\n",
    "      print(f\"Jumlah Hari {bulan_data['Hari']}\")\n",
    "      break\n",
    "  else:\n",
    "    print(\"Invalid Bulan\")\n",
    "\n",
    "except:\n",
    "  print(\"Kesalahan memasukkan input (Integer)\")"
   ]
  },
  {
   "attachments": {},
   "cell_type": "markdown",
   "metadata": {},
   "source": [
    "Latihan 3.4"
   ]
  },
  {
   "cell_type": "code",
   "execution_count": 22,
   "metadata": {},
   "outputs": [
    {
     "name": "stdout",
     "output_type": "stream",
     "text": [
      "Masukkan Sisi 1: 17\n",
      "Masukkan Sisi 2: 17\n",
      "Masukkan Sisi 3: 9\n",
      "2 Sisi sama\n"
     ]
    }
   ],
   "source": [
    "try: \n",
    "  sisi_1 = int(input(\"Masukkan Sisi 1: \"))\n",
    "  sisi_2 = int(input(\"Masukkan Sisi 2: \"))\n",
    "  sisi_3 = int(input(\"Masukkan Sisi 3: \"))\n",
    "\n",
    "  print(f\"Masukkan Sisi 1: {sisi_1}\")\n",
    "  print(f\"Masukkan Sisi 2: {sisi_2}\")\n",
    "  print(f\"Masukkan Sisi 3: {sisi_3}\")\n",
    "\n",
    "  if sisi_1 == sisi_2 == sisi_3:\n",
    "    print(\"3 Sisi Sama\")\n",
    "  elif sisi_1 == sisi_2 != sisi_3 or sisi_1 != sisi_2 == sisi_3 or sisi_1 == sisi_3 != sisi_2:\n",
    "    print(\"2 Sisi sama\")\n",
    "  else:\n",
    "    print(\"Tidak ada yang sama\")\n",
    "\n",
    "except:\n",
    "  print(\"Kesalahan memasukan input (Integer)\")"
   ]
  }
 ],
 "metadata": {
  "kernelspec": {
   "display_name": "Python 3",
   "language": "python",
   "name": "python3"
  },
  "language_info": {
   "codemirror_mode": {
    "name": "ipython",
    "version": 3
   },
   "file_extension": ".py",
   "mimetype": "text/x-python",
   "name": "python",
   "nbconvert_exporter": "python",
   "pygments_lexer": "ipython3",
   "version": "3.11.4"
  },
  "orig_nbformat": 4
 },
 "nbformat": 4,
 "nbformat_minor": 2
}
