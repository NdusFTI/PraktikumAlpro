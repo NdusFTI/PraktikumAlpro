{
 "cells": [
  {
   "attachments": {},
   "cell_type": "markdown",
   "metadata": {},
   "source": [
    "Latihan 2.1"
   ]
  },
  {
   "cell_type": "code",
   "execution_count": 7,
   "metadata": {},
   "outputs": [
    {
     "name": "stdout",
     "output_type": "stream",
     "text": [
      "Berat badanmu: 70 Kg\n",
      "Tinggi badanmu: 170 Cm\n",
      "BMI Kamu: 24.221453287197235\n"
     ]
    }
   ],
   "source": [
    "berat_badan = int(input(\"Masukkan Berat Badan: \"))\n",
    "tinggi_badan = int(input(\"Masukkan Tinggi Badan: \"))\n",
    "\n",
    "tinggi_badan_meter = tinggi_badan / 100  \n",
    "Body_Mass_Index = berat_badan / (tinggi_badan_meter ** 2)\n",
    "\n",
    "print(\"Berat badanmu: {} Kg\".format(berat_badan))\n",
    "print(\"Tinggi badanmu: {} Cm\".format(tinggi_badan))\n",
    "print(\"BMI Kamu: {}\".format(Body_Mass_Index))"
   ]
  },
  {
   "attachments": {},
   "cell_type": "markdown",
   "metadata": {},
   "source": [
    "Latihan 2.2\n"
   ]
  },
  {
   "cell_type": "code",
   "execution_count": 8,
   "metadata": {},
   "outputs": [
    {
     "name": "stdout",
     "output_type": "stream",
     "text": [
      "Jika x adalah: 10\n",
      "2021.5\n"
     ]
    }
   ],
   "source": [
    "x = int(input(\"Masukkan Bilangan Bulat: \"))\n",
    "\n",
    "rumus = (2*(x ** 3)) + (2*x) + (15/x)\n",
    "\n",
    "print(\"Jika x adalah: {}\".format(x))\n",
    "print(rumus)"
   ]
  },
  {
   "attachments": {},
   "cell_type": "markdown",
   "metadata": {},
   "source": [
    "Latihan 2.3"
   ]
  },
  {
   "cell_type": "code",
   "execution_count": 19,
   "metadata": {},
   "outputs": [
    {
     "name": "stdout",
     "output_type": "stream",
     "text": [
      "Gaji yang di dapatkan per jam: Rp.1000000.00\n",
      "Jam kerja selama: 5 Jam\n",
      "======================\n",
      "Pendapatan Budi selama libur musim panas (Pajak OFF): Rp.25000000.00\n",
      "Pendapatan Budi selama libur musim panas (Pajak ON): Rp.21500000.00\n",
      "Jumlah uang yang akan Budi habiskan untuk membeli pakaian dan aksesoris: Rp.2150000.00\n",
      "Jumlah uang yang akan Budi habiskan untuk membeli alat tulis: Rp.215000.00\n",
      "Jumlah uang yang akan Budi sedekahkan: Rp.4783750.00\n",
      "Jumlah uang yang akan diterima anak yatim: Rp.1434900.00\n",
      "Jumlah uang yang akan diterima kaum dhuafa: Rp.3348100.00\n",
      "750.0\n"
     ]
    }
   ],
   "source": [
    "gaji_per_jam = int(input(\"Masukkan Gaji yang di-inginkan: \"))\n",
    "jam_kerja = int(input(\"Masukkan Jam Kerja: \"))\n",
    "\n",
    "total_jam_kerja = jam_kerja * 5\n",
    "pendapatan_sebelum_pajak = gaji_per_jam * total_jam_kerja\n",
    "uang_pajak = 0.14 * pendapatan_sebelum_pajak\n",
    "pendapatan_setelah_pajak = pendapatan_sebelum_pajak - uang_pajak\n",
    "\n",
    "uang_pakaian_aks = pendapatan_setelah_pajak * 0.10\n",
    "uang_alat_tulis = pendapatan_setelah_pajak * 0.01\n",
    "uang_sedekah = 0.25 * (pendapatan_setelah_pajak - uang_pakaian_aks - uang_alat_tulis)\n",
    "\n",
    "setiap_seribu = uang_sedekah\n",
    "\n",
    "while setiap_seribu % 1000 == 0 and setiap_seribu >= 1000 or setiap_seribu % 1000 != 0 and setiap_seribu >= 1000:\n",
    "  setiap_seribu -= 1000\n",
    "\n",
    "uang_sedekah_ril = uang_sedekah - setiap_seribu\n",
    "\n",
    "uang_anak_yatim = (0.30 * uang_sedekah_ril)\n",
    "uang_dhuafa = (0.70 * uang_sedekah_ril)\n",
    "\n",
    "print(\"Gaji yang di dapatkan per jam: Rp.{:.2f}\".format(gaji_per_jam))\n",
    "print(\"Jam kerja selama: {} Jam\".format(jam_kerja))\n",
    "print(\"======================\")\n",
    "print(\"Pendapatan Budi selama libur musim panas (Pajak OFF): Rp.{:.2f}\".format(round(pendapatan_sebelum_pajak)))\n",
    "print(\"Pendapatan Budi selama libur musim panas (Pajak ON): Rp.{:.2f}\".format(round(pendapatan_setelah_pajak)))\n",
    "print(\"Jumlah uang yang akan Budi habiskan untuk membeli pakaian dan aksesoris: Rp.{:.2f}\".format(round(uang_pakaian_aks)))\n",
    "print(\"Jumlah uang yang akan Budi habiskan untuk membeli alat tulis: Rp.{:.2f}\".format(round(uang_alat_tulis)))\n",
    "print(\"Jumlah uang yang akan Budi sedekahkan: Rp.{:.2f}\".format(round(uang_sedekah)))\n",
    "print(\"Jumlah uang yang akan diterima anak yatim: Rp.{:.2f}\".format(round(uang_anak_yatim)))\n",
    "print(\"Jumlah uang yang akan diterima kaum dhuafa: Rp.{:.2f}\".format(round(uang_dhuafa)))"
   ]
  }
 ],
 "metadata": {
  "kernelspec": {
   "display_name": "Python 3",
   "language": "python",
   "name": "python3"
  },
  "language_info": {
   "codemirror_mode": {
    "name": "ipython",
    "version": 3
   },
   "file_extension": ".py",
   "mimetype": "text/x-python",
   "name": "python",
   "nbconvert_exporter": "python",
   "pygments_lexer": "ipython3",
   "version": "3.11.4"
  },
  "orig_nbformat": 4
 },
 "nbformat": 4,
 "nbformat_minor": 2
}
