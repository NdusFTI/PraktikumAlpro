{
 "cells": [
  {
   "cell_type": "markdown",
   "metadata": {},
   "source": [
    "Latihan 5.1"
   ]
  },
  {
   "cell_type": "code",
   "execution_count": 7,
   "metadata": {},
   "outputs": [
    {
     "name": "stdout",
     "output_type": "stream",
     "text": [
      "6 x 5 = 5 + 5 + 5 + 5 + 5 + 5 = 30\n"
     ]
    }
   ],
   "source": [
    "def perkalian(a, b):\n",
    "    hasil = 0\n",
    "    for i in range(a):\n",
    "        hasil += b\n",
    "    return (f\"{a} x {b} = {f\"{b} + \" * (a-1)}{b} = {hasil}\")\n",
    "    \n",
    "angka1 = int(input(\"Masukkan Bilangan 1: \"))\n",
    "angka2 = int(input(\"Masukkan Bilangan 2: \"))\n",
    "print(perkalian(angka1, angka2))\n"
   ]
  },
  {
   "cell_type": "markdown",
   "metadata": {},
   "source": [
    "Latihan 5.2"
   ]
  },
  {
   "cell_type": "code",
   "execution_count": 3,
   "metadata": {},
   "outputs": [
    {
     "name": "stdout",
     "output_type": "stream",
     "text": [
      "11\n",
      "13\n",
      "15\n",
      "17\n",
      "19\n"
     ]
    }
   ],
   "source": [
    "def ganjil(bawah, atas):\n",
    "    if bawah < atas:\n",
    "        for i in range(bawah, atas+1):\n",
    "            if i % 2 != 0:\n",
    "                print(i)\n",
    "    else:\n",
    "        for i in range(bawah, atas-1, -1):\n",
    "            if i % 2 != 0:\n",
    "                print(i)\n",
    "\n",
    "inputBawah = int(input(\"Masukkan Batas Bawah: \"))\n",
    "inputAtas = int(input(\"Masukkan Batas Atas: \"))\n",
    "ganjil(inputBawah, inputAtas)"
   ]
  },
  {
   "cell_type": "markdown",
   "metadata": {},
   "source": [
    "Latihan 5.3"
   ]
  },
  {
   "cell_type": "code",
   "execution_count": 3,
   "metadata": {},
   "outputs": [
    {
     "name": "stdout",
     "output_type": "stream",
     "text": [
      "Berapa jumlah mata kuliah: 6\n",
      "Nilai MK 1: A\n",
      "Nilai MK 2: B\n",
      "Nilai MK 3: C\n",
      "Nilai MK 4: A\n",
      "Nilai MK 5: C\n",
      "Nilai MK 6: D\n",
      "Nilai IPS anda semester ini 2.67\n"
     ]
    }
   ],
   "source": [
    "def nilaiIPS(jumlahKuliah):\n",
    "    totalNilai = 0\n",
    "    for i in range(1, jumlahKuliah+1):\n",
    "        nilaiMk = str(input(f\"Nilai MK {i}: \"))\n",
    "        print(f\"Nilai MK {i}: {nilaiMk}\")\n",
    "\n",
    "        if nilaiMk == \"A\":\n",
    "            totalNilai += 4\n",
    "        elif nilaiMk == \"B\":\n",
    "            totalNilai += 3\n",
    "        elif nilaiMk == \"C\":\n",
    "            totalNilai += 2\n",
    "        elif nilaiMk == \"D\":\n",
    "            totalNilai += 1\n",
    "        else:\n",
    "            totalNilai += 0\n",
    "\n",
    "    return totalNilai/jumlahKuliah\n",
    "\n",
    "jumlahKuliah = int(input(\"Berapa jumlah mata kuliah: \"))\n",
    "print(f\"Berapa jumlah mata kuliah: {jumlahKuliah}\")\n",
    "print(f\"Nilai IPS anda semester ini {round(nilaiIPS(jumlahKuliah), 2)}\")"
   ]
  }
 ],
 "metadata": {
  "kernelspec": {
   "display_name": "Python 3",
   "language": "python",
   "name": "python3"
  },
  "language_info": {
   "codemirror_mode": {
    "name": "ipython",
    "version": 3
   },
   "file_extension": ".py",
   "mimetype": "text/x-python",
   "name": "python",
   "nbconvert_exporter": "python",
   "pygments_lexer": "ipython3",
   "version": "3.12.2"
  }
 },
 "nbformat": 4,
 "nbformat_minor": 2
}
