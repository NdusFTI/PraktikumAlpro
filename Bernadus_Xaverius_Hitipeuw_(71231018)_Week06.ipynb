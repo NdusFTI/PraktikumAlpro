{
 "cells": [
  {
   "cell_type": "markdown",
   "metadata": {},
   "source": [
    "Latihan 6.1"
   ]
  },
  {
   "cell_type": "code",
   "execution_count": 1,
   "metadata": {},
   "outputs": [
    {
     "name": "stdout",
     "output_type": "stream",
     "text": [
      "Masukkan angka: 21\n",
      "Bilangan prima terdekat yang kurang dari 21 adalah 19\n"
     ]
    }
   ],
   "source": [
    "bilangan = int(input(\"Masukkan Angka: \"))\n",
    "print(f\"Masukkan angka: {bilangan}\")\n",
    "for i in range(bilangan - 1, 1, -1):\n",
    "    if i > 1:\n",
    "        for j in range(2, i - 1):\n",
    "            if i % j == 0:\n",
    "                break\n",
    "\n",
    "        else:\n",
    "            print(f\"Bilangan prima terdekat yang kurang dari {bilangan} adalah {i}\")\n",
    "            break\n",
    "else:\n",
    "    print('Bukan Bilangan Prima')"
   ]
  },
  {
   "cell_type": "markdown",
   "metadata": {},
   "source": [
    "Latihan 6.2"
   ]
  },
  {
   "cell_type": "code",
   "execution_count": 2,
   "metadata": {},
   "outputs": [
    {
     "name": "stdout",
     "output_type": "stream",
     "text": [
      "Masukkan angka: 6\n",
      "720  6  5  4  3  2  1  \n",
      "120  5  4  3  2  1  \n",
      "24  4  3  2  1  \n",
      "6  3  2  1  \n",
      "2  2  1  \n",
      "1  1  \n"
     ]
    }
   ],
   "source": [
    "bilangan = int(input(\"Masukkan Angka: \"))\n",
    "print(f\"Masukkan angka: {bilangan}\")\n",
    "for i in range(0, bilangan):\n",
    "    total = 1\n",
    "\n",
    "    for k in range(1, bilangan-i+1):\n",
    "        total *= k\n",
    "\n",
    "    print(total,\" \", end=\"\")\n",
    "    for j in range(bilangan-i, 0, -1):\n",
    "        print(j,\" \", end=\"\")\n",
    "    print()\n"
   ]
  },
  {
   "cell_type": "markdown",
   "metadata": {},
   "source": [
    "Latihan 6.3"
   ]
  },
  {
   "cell_type": "code",
   "execution_count": 4,
   "metadata": {},
   "outputs": [
    {
     "name": "stdout",
     "output_type": "stream",
     "text": [
      "Masukkan tinggi: 4\n",
      "Masukkan lebar: 5\n",
      "1  2  3  4  5  \n",
      "6  7  8  9  10  \n",
      "11  12  13  14  15  \n",
      "16  17  18  19  20  \n"
     ]
    }
   ],
   "source": [
    "tinggi = int(input('Masukkan Tingginya: '))\n",
    "lebar = int(input('Masukkan Lebarnya: '))\n",
    "\n",
    "print(f\"Masukkan tinggi: {tinggi}\")\n",
    "print(f\"Masukkan lebar: {lebar}\")\n",
    "num = 0\n",
    "for i in range(0, tinggi):\n",
    "    for j in range(0, lebar):\n",
    "        num += 1\n",
    "        print(num, \" \", end=\"\")\n",
    "    print()"
   ]
  }
 ],
 "metadata": {
  "kernelspec": {
   "display_name": "Python 3",
   "language": "python",
   "name": "python3"
  },
  "language_info": {
   "codemirror_mode": {
    "name": "ipython",
    "version": 3
   },
   "file_extension": ".py",
   "mimetype": "text/x-python",
   "name": "python",
   "nbconvert_exporter": "python",
   "pygments_lexer": "ipython3",
   "version": "3.12.2"
  }
 },
 "nbformat": 4,
 "nbformat_minor": 2
}
